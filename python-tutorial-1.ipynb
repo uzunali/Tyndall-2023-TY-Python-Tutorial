{
 "cells": [
  {
   "cell_type": "markdown",
   "metadata": {},
   "source": [
    "# Installation and Editor"
   ]
  },
  {
   "cell_type": "markdown",
   "metadata": {},
   "source": [
    "# https://www.python.org/downloads/\n",
    "Any editor you feel more comfortable\n",
    "-PyCharm\n",
    "-Visual Studio Code\n",
    "-Jupyter Notebook \n",
    "    https://jupyter.org/install\n"
   ]
  },
  {
   "cell_type": "markdown",
   "metadata": {},
   "source": [
    "Online Python Compiler\n",
    "\n",
    "https://www.programiz.com/python-programming/online-compiler/\n",
    "\n",
    "https://www.online-python.com/\n"
   ]
  },
  {
   "cell_type": "markdown",
   "metadata": {},
   "source": [
    "# Jupyter Notebook \n",
    "\n",
    "- Browser based editor\n",
    "- Write and compile your code in cells\n",
    "\n"
   ]
  },
  {
   "cell_type": "markdown",
   "metadata": {},
   "source": [
    "# Heading\n",
    "## Smaller heading\n",
    "### Even smaller\n",
    "#### smallest"
   ]
  },
  {
   "cell_type": "code",
   "execution_count": null,
   "metadata": {},
   "outputs": [],
   "source": []
  },
  {
   "cell_type": "markdown",
   "metadata": {},
   "source": [
    "python is great"
   ]
  },
  {
   "cell_type": "markdown",
   "metadata": {},
   "source": [
    "Markdown - documentation and explaning you code\n",
    "\n",
    "Adding text, table etc\n",
    "\n",
    "| Python | Jupyter | IDE |\n",
    "| --- | --- | --- |\n",
    "| 3 | Notebbok | Any |"
   ]
  },
  {
   "cell_type": "markdown",
   "metadata": {},
   "source": [
    "To **run** the code in a cell:  Click on *Run* or *Shift + ENTER / Return*"
   ]
  },
  {
   "cell_type": "markdown",
   "metadata": {},
   "source": [
    "Delete the cell - **double click on D**\n"
   ]
  },
  {
   "cell_type": "code",
   "execution_count": null,
   "metadata": {},
   "outputs": [],
   "source": []
  },
  {
   "cell_type": "markdown",
   "metadata": {},
   "source": [
    "Add new cell\n",
    "** A ** : Above the current cell\n",
    "** B ** : Below the current cell"
   ]
  },
  {
   "cell_type": "code",
   "execution_count": null,
   "metadata": {},
   "outputs": [],
   "source": []
  },
  {
   "cell_type": "markdown",
   "metadata": {},
   "source": [
    "# Python version"
   ]
  },
  {
   "cell_type": "code",
   "execution_count": null,
   "metadata": {},
   "outputs": [],
   "source": []
  },
  {
   "cell_type": "code",
   "execution_count": 2,
   "metadata": {},
   "outputs": [
    {
     "name": "stdout",
     "output_type": "stream",
     "text": [
      "3.9.7 (default, Sep 16 2021, 08:50:36) \n",
      "[Clang 10.0.0 ]\n"
     ]
    }
   ],
   "source": [
    "import sys\n",
    "print(sys.version)"
   ]
  },
  {
   "cell_type": "markdown",
   "metadata": {},
   "source": [
    "Make sure you have a version of Python-3 <br>\n",
    "Python-2 is not supported anymore! (No improvement)"
   ]
  },
  {
   "cell_type": "markdown",
   "metadata": {},
   "source": [
    "# First Code in Python"
   ]
  },
  {
   "cell_type": "code",
   "execution_count": 4,
   "metadata": {},
   "outputs": [
    {
     "name": "stdout",
     "output_type": "stream",
     "text": [
      "Hello World !!\n",
      "Hello World !!\n",
      "123\n",
      "123\n"
     ]
    }
   ],
   "source": [
    "print(\"Hello World !!\")\n",
    "print('Hello World !!')\n",
    "print(123)\n",
    "print(\"123\")\n",
    "# print(x) -- shows the given input-(x) on the screen !!"
   ]
  },
  {
   "cell_type": "markdown",
   "metadata": {},
   "source": [
    "## Adding Comment in Python\n",
    "\n",
    "Good for documentation"
   ]
  },
  {
   "cell_type": "code",
   "execution_count": 6,
   "metadata": {},
   "outputs": [
    {
     "name": "stdout",
     "output_type": "stream",
     "text": [
      "comment\n"
     ]
    }
   ],
   "source": [
    "# this is a comment\n",
    "print(\"comment\")\n",
    "# print(\"comment out\")"
   ]
  },
  {
   "cell_type": "markdown",
   "metadata": {},
   "source": [
    "# Variable"
   ]
  },
  {
   "cell_type": "markdown",
   "metadata": {},
   "source": [
    "A name that refers to a value. (i.e. form real life, $\\pi$ (pi) is 3.141592653589793238)\n",
    "\n",
    "• Variable names can be arbitrarily long.\n",
    "\n",
    "• Names contain both letters and numbers. But have to begin with a letter. (2y = 22)\n",
    "\n",
    "• Underscore (_) character can appear in a name.\n",
    "\n",
    "• Case sensitive, x and X is different !!! .\n",
    "\n",
    "• Don’t use Python reserved keywords.\n"
   ]
  },
  {
   "cell_type": "code",
   "execution_count": 1,
   "metadata": {},
   "outputs": [],
   "source": [
    "y = 1\n",
    "y1 = 2\n",
    "\n",
    "x1 = 1\n",
    "\n",
    "lastname = \"q\"\n",
    "person_lastname =  \"e\""
   ]
  },
  {
   "cell_type": "code",
   "execution_count": 14,
   "metadata": {},
   "outputs": [
    {
     "name": "stdout",
     "output_type": "stream",
     "text": [
      "2\n",
      "2\n",
      "python\n",
      "44\n"
     ]
    }
   ],
   "source": [
    "\n",
    "# no need to declare type\n",
    "\n",
    "y = \"python\"\n",
    "\n",
    "x2 = \"44\"\n",
    "\n",
    "print(2)\n",
    "x = 2\n",
    "print(x)\n",
    "print(y)\n",
    "print(x2)"
   ]
  },
  {
   "cell_type": "code",
   "execution_count": 17,
   "metadata": {
    "scrolled": true
   },
   "outputs": [
    {
     "name": "stdout",
     "output_type": "stream",
     "text": [
      "Ali Uzun Tyndall\n",
      "1\n",
      "1\n",
      "1 1 1\n"
     ]
    }
   ],
   "source": [
    "first_name = \"Ali\"\n",
    "\n",
    "first_name, last_name, company = \"Ali\", \"Uzun\", \"Tyndall\"\n",
    "\n",
    "print(first_name, last_name, company)\n",
    "\n",
    "a=1\n",
    "b=1\n",
    "c=1\n",
    "\n",
    "a=b=c=1 # assign multiple variable to same values\n",
    "print(a)\n",
    "print(b)\n",
    "print(a,b,c)"
   ]
  },
  {
   "cell_type": "code",
   "execution_count": 22,
   "metadata": {},
   "outputs": [
    {
     "name": "stdout",
     "output_type": "stream",
     "text": [
      "(1, 2, 4)\n",
      "(1, 2, 4) (1, 2, 4) (1, 2, 4)\n"
     ]
    }
   ],
   "source": [
    "d=1\n",
    "\n",
    "d = 1,2,4 # tupple\n",
    "d=e=f=1,2,4\n",
    "print(d)\n",
    "print(d,e,f)"
   ]
  },
  {
   "cell_type": "code",
   "execution_count": 13,
   "metadata": {},
   "outputs": [
    {
     "name": "stdout",
     "output_type": "stream",
     "text": [
      "lowercase x-1\n",
      "uppercase X-2\n"
     ]
    }
   ],
   "source": [
    "x = \"lowercase x-1\"\n",
    "X = \"uppercase X-2\"\n",
    "\n",
    "print(x)\n",
    "print(X)"
   ]
  },
  {
   "cell_type": "markdown",
   "metadata": {},
   "source": [
    "## Python Keywords - Do not use as variable !!"
   ]
  },
  {
   "cell_type": "code",
   "execution_count": 46,
   "metadata": {},
   "outputs": [
    {
     "name": "stdout",
     "output_type": "stream",
     "text": [
      "\n",
      "Here is a list of the Python keywords.  Enter any keyword to get more help.\n",
      "\n",
      "False               class               from                or\n",
      "None                continue            global              pass\n",
      "True                def                 if                  raise\n",
      "and                 del                 import              return\n",
      "as                  elif                in                  try\n",
      "assert              else                is                  while\n",
      "async               except              lambda              with\n",
      "await               finally             nonlocal            yield\n",
      "break               for                 not                 \n",
      "\n"
     ]
    }
   ],
   "source": [
    "help(\"keywords\")"
   ]
  },
  {
   "cell_type": "markdown",
   "metadata": {},
   "source": [
    "Python keywords are green when you type them!"
   ]
  },
  {
   "cell_type": "code",
   "execution_count": 24,
   "metadata": {},
   "outputs": [],
   "source": [
    "a = 1\n",
    "as_1 = 2 "
   ]
  },
  {
   "cell_type": "markdown",
   "metadata": {},
   "source": [
    "## Values and Types"
   ]
  },
  {
   "cell_type": "markdown",
   "metadata": {},
   "source": [
    "• Value -> e.g., a number, a letter, text, etc.\n",
    "\n",
    "• Value have types. (number, character etc)\n"
   ]
  },
  {
   "cell_type": "code",
   "execution_count": 29,
   "metadata": {},
   "outputs": [
    {
     "name": "stdout",
     "output_type": "stream",
     "text": [
      "2\n",
      "<class 'int'>\n",
      "<class 'type'>\n",
      "<class 'type'>\n"
     ]
    }
   ],
   "source": [
    "x = 2\n",
    "print(x)\n",
    "\n",
    "x_t = type(x) # gets type of variable x\n",
    "x_tt = type(x_t)\n",
    "x_ttt = type(x_tt)\n",
    "print(x_t) # value is 2 but it is a number , integer\n",
    "\n",
    "print(x_tt)\n",
    "print(x_ttt)"
   ]
  },
  {
   "cell_type": "code",
   "execution_count": null,
   "metadata": {},
   "outputs": [],
   "source": [
    "True\n",
    "true "
   ]
  },
  {
   "cell_type": "markdown",
   "metadata": {},
   "source": [
    "# Data Type in Python"
   ]
  },
  {
   "cell_type": "markdown",
   "metadata": {},
   "source": [
    "1) boolean (bool) -- True (1) or False (0)\n",
    "\n",
    "2) integer (int) -- a number\n",
    "\n",
    "3) float (float) -- a decimal\n",
    "\n",
    "4) string (str) -- squence of character in \" \" or ' '\n",
    "\n",
    "\n",
    "5) list(list) -- squence of ordered object, similar to array in oter language\n",
    "\n",
    "6) tuple (tuple) -- squence of fixed length, where elements position is meaningful\n",
    "\n",
    "7) dictionary (dict) -- ordered grouping of key-value pairs (for python 3.7 or later)"
   ]
  },
  {
   "cell_type": "code",
   "execution_count": null,
   "metadata": {},
   "outputs": [],
   "source": [
    "ages = (1,2,3,4) # tupple\n",
    "ages = [1,2,3,4] #list\n",
    "ages = {\"p1\":1,\"p2\":2,\"p3\":3,\"p4\":4} # "
   ]
  },
  {
   "cell_type": "code",
   "execution_count": 34,
   "metadata": {},
   "outputs": [
    {
     "name": "stdout",
     "output_type": "stream",
     "text": [
      "<class 'int'>\n",
      "<class 'float'>\n",
      "<class 'str'>\n",
      "<class 'str'>\n",
      "<class 'bool'>\n"
     ]
    }
   ],
   "source": [
    "x = 2 #integer\n",
    "print(type(x)) # value is 2 but it is a number , integer\n",
    "\n",
    "x = 2.0 #float\n",
    "print(type(x)) # value is 2.0 but it is a number , float\n",
    "\n",
    "x1 = \"a\" # string \"11, asd, \", \"*\", \"---\"\n",
    "x2 = \"a1*w\"\n",
    "print(type(x1))\n",
    "print(type(x2))\n",
    "\n",
    "t = \"hsdgfhg\"\n",
    "x = True # boolean\n",
    "print(type(x))\n"
   ]
  },
  {
   "cell_type": "markdown",
   "metadata": {},
   "source": [
    "# Type Casting"
   ]
  },
  {
   "cell_type": "code",
   "execution_count": 39,
   "metadata": {},
   "outputs": [
    {
     "name": "stdout",
     "output_type": "stream",
     "text": [
      "<class 'int'>\n",
      "<class 'str'>\n",
      "10.0\n",
      "<class 'float'>\n",
      "<class 'float'>\n",
      "<class 'int'>\n"
     ]
    }
   ],
   "source": [
    "x = 10\n",
    "print(type(x))\n",
    "\n",
    "y = str(x) # convert to string \n",
    "print(type(y))\n",
    "\n",
    "\n",
    "y = float(x) # convert to float \n",
    "print(y)\n",
    "print(type(y))\n",
    "\n",
    "t=1.2\n",
    "t1 = int(t) # float to integer\n",
    "print(type(t))\n",
    "print(type(t1))"
   ]
  },
  {
   "cell_type": "code",
   "execution_count": 40,
   "metadata": {},
   "outputs": [
    {
     "name": "stdout",
     "output_type": "stream",
     "text": [
      "<class 'str'>\n"
     ]
    },
    {
     "ename": "ValueError",
     "evalue": "invalid literal for int() with base 10: 'abc'",
     "output_type": "error",
     "traceback": [
      "\u001b[0;31m---------------------------------------------------------------------------\u001b[0m",
      "\u001b[0;31mValueError\u001b[0m                                Traceback (most recent call last)",
      "\u001b[0;32m/var/folders/yf/jl6pxxbs25q5wxcsrl73vqw00000gn/T/ipykernel_2061/3258922147.py\u001b[0m in \u001b[0;36m<module>\u001b[0;34m\u001b[0m\n\u001b[1;32m      3\u001b[0m \u001b[0mprint\u001b[0m\u001b[0;34m(\u001b[0m\u001b[0mtype\u001b[0m\u001b[0;34m(\u001b[0m\u001b[0mx\u001b[0m\u001b[0;34m)\u001b[0m\u001b[0;34m)\u001b[0m\u001b[0;34m\u001b[0m\u001b[0;34m\u001b[0m\u001b[0m\n\u001b[1;32m      4\u001b[0m \u001b[0;34m\u001b[0m\u001b[0m\n\u001b[0;32m----> 5\u001b[0;31m \u001b[0my\u001b[0m \u001b[0;34m=\u001b[0m \u001b[0mint\u001b[0m\u001b[0;34m(\u001b[0m\u001b[0mx\u001b[0m\u001b[0;34m)\u001b[0m \u001b[0;31m# convert to int\u001b[0m\u001b[0;34m\u001b[0m\u001b[0;34m\u001b[0m\u001b[0m\n\u001b[0m\u001b[1;32m      6\u001b[0m \u001b[0mprint\u001b[0m\u001b[0;34m(\u001b[0m\u001b[0mtype\u001b[0m\u001b[0;34m(\u001b[0m\u001b[0my\u001b[0m\u001b[0;34m)\u001b[0m\u001b[0;34m)\u001b[0m\u001b[0;34m\u001b[0m\u001b[0;34m\u001b[0m\u001b[0m\n\u001b[1;32m      7\u001b[0m \u001b[0;34m\u001b[0m\u001b[0m\n",
      "\u001b[0;31mValueError\u001b[0m: invalid literal for int() with base 10: 'abc'"
     ]
    }
   ],
   "source": [
    "# No convertion from string to number!\n",
    "x = \"abc\"\n",
    "print(type(x))\n",
    "\n",
    "y = int(x) # convert to int \n",
    "print(type(y))\n",
    "\n",
    "y = float(x) # convert to float \n",
    "print(type(y))"
   ]
  },
  {
   "cell_type": "code",
   "execution_count": 43,
   "metadata": {},
   "outputs": [
    {
     "name": "stdout",
     "output_type": "stream",
     "text": [
      "<class 'int'>\n",
      "<class 'float'>\n",
      "<class 'str'>\n"
     ]
    }
   ],
   "source": [
    "a = 123\n",
    "print(type(a))\n",
    "\n",
    "a = 123.0\n",
    "print(type(a))\n",
    "\n",
    "a_s = str(a)\n",
    "print(type(a_s))"
   ]
  },
  {
   "cell_type": "markdown",
   "metadata": {},
   "source": [
    "# Operators and Operands"
   ]
  },
  {
   "cell_type": "markdown",
   "metadata": {},
   "source": [
    "• Operators are special symbols that represent computations like addition and multiplication.\n",
    "\n",
    "• The values that the operator is applied to are called operands.\n",
    "\n",
    "• +, -, /, *, **"
   ]
  },
  {
   "cell_type": "markdown",
   "metadata": {},
   "source": [
    "![PIC](Data/f1.png)"
   ]
  },
  {
   "cell_type": "code",
   "execution_count": 45,
   "metadata": {},
   "outputs": [
    {
     "name": "stdout",
     "output_type": "stream",
     "text": [
      "6\n",
      "2.0\n",
      "16\n",
      "a b c\n",
      "aaa\n"
     ]
    }
   ],
   "source": [
    "x  = 2 + 4\n",
    "x2 = 4 / 2\n",
    "x3 = 2**4\n",
    "\n",
    "print(x)\n",
    "print(x2)\n",
    "print(x3)\n",
    "\n",
    "y = \"a\" + \" b\" + \" c\"\n",
    "y1 = \"a\"*3\n",
    "\n",
    "print(y)\n",
    "print(y1)"
   ]
  },
  {
   "cell_type": "code",
   "execution_count": 46,
   "metadata": {},
   "outputs": [
    {
     "name": "stdout",
     "output_type": "stream",
     "text": [
      "2\n",
      "1\n",
      "81\n"
     ]
    }
   ],
   "source": [
    "x = 9\n",
    "y=4\n",
    "\n",
    "print(9//4)\n",
    "print(9%4)\n",
    "print(x**2)"
   ]
  },
  {
   "cell_type": "markdown",
   "metadata": {},
   "source": [
    "## Modulus Operator - %\n",
    "Return remainder.\n",
    "\n",
    "The modulus operator is used i.e. to check whether one number is divisible by another. For example, if x % y is zero, then x is divisible by y."
   ]
  },
  {
   "cell_type": "code",
   "execution_count": 50,
   "metadata": {},
   "outputs": [
    {
     "name": "stdout",
     "output_type": "stream",
     "text": [
      "1\n",
      "0\n"
     ]
    }
   ],
   "source": [
    "print(7%2)\n",
    "\n",
    "print (8%4)"
   ]
  },
  {
   "cell_type": "markdown",
   "metadata": {},
   "source": [
    "# Boolean & Relational & Logical Operators"
   ]
  },
  {
   "cell_type": "markdown",
   "metadata": {},
   "source": [
    "## Boolean Expression\n",
    "A boolean expression is an expression that is either True or False. "
   ]
  },
  {
   "cell_type": "code",
   "execution_count": 48,
   "metadata": {},
   "outputs": [
    {
     "name": "stdout",
     "output_type": "stream",
     "text": [
      "True\n",
      "False\n",
      "<class 'bool'>\n"
     ]
    }
   ],
   "source": [
    "print (5 == 5)\n",
    "\n",
    "exp = \"A\"==\"a\"\n",
    "print (exp)\n",
    "\n",
    "print(type(exp))\n",
    "\n",
    "\n",
    "a = 2 "
   ]
  },
  {
   "cell_type": "markdown",
   "metadata": {},
   "source": [
    "## Relational Operators\n",
    "Relational operators are:\n",
    "\n",
    "1) x **==** y # x is equal to y\n",
    "\n",
    "2) x **!=** y # x is not equal to y\n",
    "\n",
    "3) x **>** y # x is greater than y\n",
    "\n",
    "4) x **<** y # x is less than y\n",
    "\n",
    "5) x **>=** y # x is greater than or equal to y\n",
    "\n",
    "6) x **<=** y # x is less than or equal to y\n",
    "\n",
    "A common erroris to use a single equal sign (=) instead of a double equal sign (==). Remember that **=** is an **assignment operator** and **==** is a **relational operator**. "
   ]
  },
  {
   "cell_type": "code",
   "execution_count": 49,
   "metadata": {},
   "outputs": [
    {
     "name": "stdout",
     "output_type": "stream",
     "text": [
      "False\n",
      "True\n",
      "True\n"
     ]
    }
   ],
   "source": [
    "x,y = 2,4\n",
    "\n",
    "print (x==y)\n",
    "\n",
    "print (y!=x)\n",
    "\n",
    "print (x < y)"
   ]
  },
  {
   "cell_type": "markdown",
   "metadata": {},
   "source": [
    "# Logical Operators\n",
    "There are three logical operators: **and**, **or**, and **not**.\n",
    "\n",
    "The semantics (meaning) of these operators is similar to their meaning in English.\n"
   ]
  },
  {
   "cell_type": "code",
   "execution_count": 34,
   "metadata": {},
   "outputs": [
    {
     "name": "stdout",
     "output_type": "stream",
     "text": [
      "True\n",
      "True\n",
      "False\n"
     ]
    }
   ],
   "source": [
    "x = 5\n",
    "\n",
    "print (x > 0 and x<10)\n",
    "print (x > 0 & x<10)\n",
    "\n",
    "print (x > 0 or x <3)\n",
    "print (x > 0 | x <3)\n",
    "\n",
    "print (not(x < 10))"
   ]
  },
  {
   "cell_type": "markdown",
   "metadata": {},
   "source": [
    "# if-else Condition\n",
    "\n",
    "The ability to check conditions and change the behavior of the programaccordingly."
   ]
  },
  {
   "cell_type": "code",
   "execution_count": 51,
   "metadata": {},
   "outputs": [],
   "source": [
    "x = -1\n",
    "\n",
    "if x > 0:\n",
    "    print ('x is positive')"
   ]
  },
  {
   "cell_type": "markdown",
   "metadata": {},
   "source": [
    "![PIC](Data/condition.png)"
   ]
  },
  {
   "cell_type": "code",
   "execution_count": 55,
   "metadata": {},
   "outputs": [
    {
     "name": "stdout",
     "output_type": "stream",
     "text": [
      "x is even\n"
     ]
    }
   ],
   "source": [
    "x = 20\n",
    "\n",
    "if x%2 == 0:\n",
    "    print ('x is even')\n",
    "else: \n",
    "    print ('x is odd')"
   ]
  },
  {
   "cell_type": "code",
   "execution_count": 52,
   "metadata": {},
   "outputs": [
    {
     "name": "stdout",
     "output_type": "stream",
     "text": [
      "x is greater than y\n"
     ]
    }
   ],
   "source": [
    "x = 12\n",
    "y = 10\n",
    "\n",
    "if x < y:\n",
    "    print ('x is less than y')\n",
    "elif x > y: # else if\n",
    "    print ('x is greater than y')\n",
    "else:\n",
    "    print ('x and y are equal')"
   ]
  },
  {
   "cell_type": "code",
   "execution_count": 53,
   "metadata": {},
   "outputs": [
    {
     "name": "stdout",
     "output_type": "stream",
     "text": [
      "x is greater than y\n"
     ]
    }
   ],
   "source": [
    "if x < y:\n",
    "    print ('x is less than y')\n",
    "if x > y: # else if\n",
    "    print ('x is greater than y')\n",
    "if x == y:\n",
    "    print ('x and y are equal')"
   ]
  },
  {
   "cell_type": "markdown",
   "metadata": {},
   "source": [
    "## Chained Conditionals\n",
    "\n",
    "•Each condition is checked in order.\n",
    "\n",
    "•If the first is false, the next is checked, and so on.\n",
    "\n",
    "•If one of them is true, the corresponding branch executes, and the statement ends.\n",
    "\n",
    "•Even if more than one condition is true, onlythe first true branch executes.\n",
    "\n",
    "•If there is an else clause, it has to be at the end, but there doesn’t have to be one."
   ]
  },
  {
   "cell_type": "code",
   "execution_count": 8,
   "metadata": {},
   "outputs": [
    {
     "ename": "SyntaxError",
     "evalue": "invalid syntax (1415433782.py, line 7)",
     "output_type": "error",
     "traceback": [
      "\u001b[0;36m  File \u001b[0;32m\"/var/folders/yf/jl6pxxbs25q5wxcsrl73vqw00000gn/T/ipykernel_819/1415433782.py\"\u001b[0;36m, line \u001b[0;32m7\u001b[0m\n\u001b[0;31m    .\u001b[0m\n\u001b[0m    ^\u001b[0m\n\u001b[0;31mSyntaxError\u001b[0m\u001b[0;31m:\u001b[0m invalid syntax\n"
     ]
    }
   ],
   "source": [
    "if condition1:\n",
    "    print ('1')\n",
    "elif condition2:\n",
    "    print ('2')\n",
    "elif condition3:\n",
    "    print ('3')\n",
    "    .\n",
    "    .\n",
    "    .\n",
    "else:\n",
    "    print ('n')"
   ]
  },
  {
   "cell_type": "markdown",
   "metadata": {},
   "source": [
    "## Nested Conditionals\n",
    "One conditional can also be nested within another."
   ]
  },
  {
   "cell_type": "code",
   "execution_count": 40,
   "metadata": {},
   "outputs": [
    {
     "name": "stdout",
     "output_type": "stream",
     "text": [
      "x is greater than y\n"
     ]
    }
   ],
   "source": [
    "x = 12\n",
    "y = 10\n",
    "\n",
    "if x == y:\n",
    "    print ('x and y are equal')\n",
    "else:\n",
    "    if x < y:\n",
    "        print ('x is less than y')\n",
    "    else:\n",
    "        print ('x is greater than y')\n",
    "        if x < y:\n",
    "            print ('x is less than y')\n",
    "        else:\n",
    "            print ('x is greater than y')"
   ]
  },
  {
   "cell_type": "markdown",
   "metadata": {},
   "source": [
    "# Updating Variables\n",
    "## Increment and Decrement"
   ]
  },
  {
   "cell_type": "code",
   "execution_count": 56,
   "metadata": {},
   "outputs": [
    {
     "name": "stdout",
     "output_type": "stream",
     "text": [
      "0\n",
      "10\n"
     ]
    }
   ],
   "source": [
    "x = 0 # initialize the variable\n",
    "\n",
    "print(x)\n",
    "x = x + 10 # increment by 1\n",
    "print(x)"
   ]
  },
  {
   "cell_type": "code",
   "execution_count": 59,
   "metadata": {},
   "outputs": [
    {
     "name": "stdout",
     "output_type": "stream",
     "text": [
      "7\n",
      "2\n"
     ]
    }
   ],
   "source": [
    "\n",
    "\n",
    "x = x - 1 # decrement by 1\n",
    "print(x)\n",
    "\n",
    "s = 0\n",
    "s = s + 2 # s = 3\n",
    "print(s)"
   ]
  },
  {
   "cell_type": "markdown",
   "metadata": {},
   "source": [
    "# List and Tuple and Dictionary\n",
    "## List()\n",
    "\n",
    "•Like a string, a list is a sequence of values.\n",
    "\n",
    "•In a string, the values are characters; in a list, they can be any type.\n",
    "\n",
    "•The values in a list are called elements or sometimes items."
   ]
  },
  {
   "cell_type": "code",
   "execution_count": 60,
   "metadata": {},
   "outputs": [
    {
     "name": "stdout",
     "output_type": "stream",
     "text": [
      "<class 'list'>\n",
      "[]\n",
      "[]\n"
     ]
    }
   ],
   "source": [
    "# Initialize empty list\n",
    "l = list()\n",
    "l2 = []\n",
    "\n",
    "print(type(l))\n",
    "\n",
    "print(l)\n",
    "print(l2)"
   ]
  },
  {
   "cell_type": "code",
   "execution_count": 11,
   "metadata": {},
   "outputs": [
    {
     "name": "stdout",
     "output_type": "stream",
     "text": [
      "['a', 'b', '1', '2', '3']\n",
      "['k', 'l', 'm']\n",
      " \n",
      "item in a list could be\n",
      "[1, 1.5, 'k', [123], [], ('a', 'b')]\n"
     ]
    }
   ],
   "source": [
    "# Initialize list\n",
    "l = list(\"ab123\") # only with string\n",
    "l2 = [\"k\",\"l\",\"m\"]\n",
    "\n",
    "print(l)\n",
    "print(l2)\n",
    "\n",
    "print(\" \")\n",
    "print(\"item in a list could be\")\n",
    "l2 = [1,1.5,\"k\",[123],[],(\"a\",\"b\")]\n",
    "print(l2)"
   ]
  },
  {
   "cell_type": "code",
   "execution_count": 64,
   "metadata": {},
   "outputs": [
    {
     "name": "stdout",
     "output_type": "stream",
     "text": [
      "[]\n",
      "['a']\n",
      "['a', 1]\n",
      "DELETE item in list\n",
      "['a', 'b', 'c', 'd', 'e', 'f']\n",
      "['a', 'b', 'c', 'e', 'f']\n",
      " \n",
      "Deleted item: a\n",
      "['b', 'c', 'e', 'f']\n",
      "['c', 'e', 'f']\n"
     ]
    }
   ],
   "source": [
    "# Append and delete\n",
    "l = list() # []\n",
    "print(l)\n",
    "\n",
    "l.append(\"a\")\n",
    "print(l)\n",
    "\n",
    "l.append(1)\n",
    "print(l)\n",
    "\n",
    "print(\"DELETE item in a list\")\n",
    "l2 = list(\"abcdef\")\n",
    "print(l2)\n",
    "\n",
    "l2.remove(\"d\") # remove by item\n",
    "print(l2)\n",
    "print(\" \")\n",
    "\n",
    "x0 = l2.pop(0) # remove by index and return it if you want\n",
    "print(\"Deleted item: \" + x0)\n",
    "print(l2)\n",
    "\n",
    "\n",
    "del l2[0] # remove by index\n",
    "print(l2)"
   ]
  },
  {
   "cell_type": "markdown",
   "metadata": {},
   "source": [
    "## Other Operation with list\n",
    "\n",
    "### In Operation"
   ]
  },
  {
   "cell_type": "code",
   "execution_count": 67,
   "metadata": {},
   "outputs": [
    {
     "name": "stdout",
     "output_type": "stream",
     "text": [
      "True\n",
      "False\n",
      " \n",
      "This also works for string !!!\n",
      "True\n"
     ]
    }
   ],
   "source": [
    "cheeses = ['Cheddar', 'Edam', 'Gouda']\n",
    "\n",
    "x = 'Edam' in cheeses\n",
    "print(x)\n",
    "\n",
    "y = 'Brie' in cheeses\n",
    "print(y)\n",
    "\n",
    "print(\" \")\n",
    "print(\"This also works for string !!!\")\n",
    "\n",
    "letters = \"abcd\"\n",
    "y = 'a' in letters\n",
    "print(y)"
   ]
  },
  {
   "cell_type": "markdown",
   "metadata": {},
   "source": [
    "## Others\n",
    "### Concatenates\n",
    "•The **+** operator concatenates lists\n",
    "\n"
   ]
  },
  {
   "cell_type": "code",
   "execution_count": 2,
   "metadata": {},
   "outputs": [
    {
     "name": "stdout",
     "output_type": "stream",
     "text": [
      "[1, 2, 3, 4, 5, 6]\n"
     ]
    }
   ],
   "source": [
    "a = [1, 2, 3]\n",
    "b = [4, 5, 6]\n",
    "c = a + b\n",
    "print (c)"
   ]
  },
  {
   "cell_type": "markdown",
   "metadata": {},
   "source": [
    "### Repeat\n",
    "•The * operator repeats a list a given number of times:"
   ]
  },
  {
   "cell_type": "code",
   "execution_count": 3,
   "metadata": {},
   "outputs": [
    {
     "name": "stdout",
     "output_type": "stream",
     "text": [
      "[1, 2, 3, 1, 2, 3]\n",
      "[4, 5, 6, 4, 5, 6, 4, 5, 6, 4, 5, 6]\n"
     ]
    }
   ],
   "source": [
    "a = [1, 2, 3]\n",
    "b = [4, 5, 6]\n",
    "\n",
    "print(a*2)\n",
    "print(b*4)"
   ]
  },
  {
   "cell_type": "markdown",
   "metadata": {},
   "source": [
    "## Lists –Accessing Items\n",
    "### Index"
   ]
  },
  {
   "cell_type": "markdown",
   "metadata": {},
   "source": [
    "![PIC2](Data/index.jpeg)"
   ]
  },
  {
   "cell_type": "code",
   "execution_count": 61,
   "metadata": {},
   "outputs": [
    {
     "name": "stdout",
     "output_type": "stream",
     "text": [
      "6\n",
      "a\n",
      "f\n",
      "f\n"
     ]
    }
   ],
   "source": [
    "s = list(\"abcdef\")\n",
    "\n",
    "# gets number of items in a list\n",
    "print(len(s))\n",
    "\n",
    "# get first item\n",
    "print(s[0]) # square bracket []\n",
    "\n",
    "# get last item\n",
    "print(s[5]) # len(s)-1\n",
    "print(s[-1])"
   ]
  },
  {
   "cell_type": "markdown",
   "metadata": {},
   "source": [
    "### Sort List Alphanumerically and numerically"
   ]
  },
  {
   "cell_type": "code",
   "execution_count": 10,
   "metadata": {},
   "outputs": [
    {
     "name": "stdout",
     "output_type": "stream",
     "text": [
      "[-5, 0.005, 23, 50, 61, 75, 82, 10000]\n",
      "Reverse Order\n",
      "[10000, 82, 75, 61, 50, 23, 0.005, -5]\n"
     ]
    }
   ],
   "source": [
    "x = 1\n",
    "List_1 = [10000, 50, 61,75 , -5 , 0.005,82, 23]\n",
    "\n",
    "List_1.sort() # by default, reverse=False\n",
    "print(List_1)\n",
    "\n",
    "print(\"Reverse Order\")\n",
    "List_1.sort(reverse=True)\n",
    "print(List_1)\n",
    "\n"
   ]
  },
  {
   "cell_type": "code",
   "execution_count": 7,
   "metadata": {},
   "outputs": [
    {
     "name": "stdout",
     "output_type": "stream",
     "text": [
      "['bMW', 'banana', 'benz', 'kiwi', 'mango', 'orange', 'pineapple', 'trolley']\n"
     ]
    }
   ],
   "source": [
    "List = [\"orange\", \"mango\", \"kiwi\", \"pineapple\", \"banana\", 'benz', 'bMW' ,\"trolley\"]\n",
    "List.sort()\n",
    "print(List)"
   ]
  },
  {
   "cell_type": "code",
   "execution_count": 8,
   "metadata": {},
   "outputs": [
    {
     "name": "stdout",
     "output_type": "stream",
     "text": [
      "['c', 'b', 'a']\n"
     ]
    }
   ],
   "source": [
    "first_list = ['a', 'b', 'c']\n",
    "first_list.reverse()\n",
    "print(first_list)"
   ]
  },
  {
   "cell_type": "markdown",
   "metadata": {},
   "source": [
    "## Tuple()\n",
    "\n",
    "You could apply +, * operation on tupple as well\n",
    "\n",
    "But cannot edit a tupple !!\n",
    "sort() does work --> use sorted(t) function which create a new tuple \n"
   ]
  },
  {
   "cell_type": "code",
   "execution_count": 8,
   "metadata": {},
   "outputs": [
    {
     "name": "stdout",
     "output_type": "stream",
     "text": [
      "<class 'tuple'>\n",
      "()\n",
      "('1', '2', '3', '4', '5')\n",
      "1\n",
      "('1', '2', '3', '4', '5', '1', '2', '3', '4', '5')\n",
      "('1', '2', '3', '4', '5', '1', '2', '3', '4', '5')\n"
     ]
    }
   ],
   "source": [
    "# Initialize empty list\n",
    "t = tuple()\n",
    "\n",
    "print(type(t))\n",
    "print(t)\n",
    "\n",
    "t = tuple(\"12345\")\n",
    "print(t)\n",
    "\n",
    "#get item by index\n",
    "print(t[0])\n",
    "\n",
    "# concatenation\n",
    "print(t+t)\n",
    "\n",
    "# repeat\n",
    "print(t*2)"
   ]
  },
  {
   "cell_type": "code",
   "execution_count": 2,
   "metadata": {},
   "outputs": [
    {
     "name": "stdout",
     "output_type": "stream",
     "text": [
      "('1', '2', '3', '4', '5')\n"
     ]
    }
   ],
   "source": [
    "t = tuple(\"12345\")\n",
    "print(t)"
   ]
  },
  {
   "cell_type": "code",
   "execution_count": 3,
   "metadata": {},
   "outputs": [
    {
     "ename": "AttributeError",
     "evalue": "'tuple' object has no attribute 'append'",
     "output_type": "error",
     "traceback": [
      "\u001b[0;31m---------------------------------------------------------------------------\u001b[0m",
      "\u001b[0;31mAttributeError\u001b[0m                            Traceback (most recent call last)",
      "\u001b[0;32m/var/folders/yf/jl6pxxbs25q5wxcsrl73vqw00000gn/T/ipykernel_1856/3848969903.py\u001b[0m in \u001b[0;36m<module>\u001b[0;34m\u001b[0m\n\u001b[0;32m----> 1\u001b[0;31m \u001b[0mt\u001b[0m\u001b[0;34m.\u001b[0m\u001b[0mappend\u001b[0m\u001b[0;34m(\u001b[0m\u001b[0;36m6\u001b[0m\u001b[0;34m)\u001b[0m\u001b[0;34m\u001b[0m\u001b[0;34m\u001b[0m\u001b[0m\n\u001b[0m",
      "\u001b[0;31mAttributeError\u001b[0m: 'tuple' object has no attribute 'append'"
     ]
    }
   ],
   "source": [
    "t.append(6)"
   ]
  },
  {
   "cell_type": "code",
   "execution_count": 61,
   "metadata": {},
   "outputs": [
    {
     "name": "stdout",
     "output_type": "stream",
     "text": [
      "('9', '1', '2', '3', '4', '5')\n",
      "['1', '2', '3', '4', '5', '9']\n"
     ]
    }
   ],
   "source": [
    "t = tuple(\"912345\")\n",
    "t_sorted = sorted(t) # need to use \n",
    "print(t)\n",
    "print(t_sorted)"
   ]
  },
  {
   "cell_type": "markdown",
   "metadata": {},
   "source": [
    "### Convertion between tuple and list\n",
    "\n",
    "Useful when you need to update a tuple as we cannot modify tuple itself"
   ]
  },
  {
   "cell_type": "code",
   "execution_count": 4,
   "metadata": {
    "scrolled": true
   },
   "outputs": [
    {
     "name": "stdout",
     "output_type": "stream",
     "text": [
      "('my', 'name', 'is', 'mr', 'tuple')\n",
      "['my', 'name', 'is', 'mr', 'tuple', '2']\n",
      "('my', 'name', 'is', 'mr', 'tuple', '2')\n"
     ]
    }
   ],
   "source": [
    "t = ('my', 'name', 'is', 'mr', 'tuple')\n",
    "print(t)\n",
    "\n",
    "l = list(t)\n",
    "l.append(\"2\")\n",
    "print(l)\n",
    "\n",
    "t = tuple(l)\n",
    "print(t)"
   ]
  },
  {
   "cell_type": "code",
   "execution_count": 11,
   "metadata": {},
   "outputs": [
    {
     "name": "stdout",
     "output_type": "stream",
     "text": [
      "['my', 'name', 'is', 'mr', 'tuple']\n",
      "('my', 'name', 'is', 'mr', 'tuple')\n"
     ]
    }
   ],
   "source": [
    "l = ['my', 'name', 'is', 'mr', 'tuple']\n",
    "print(l)\n",
    "\n",
    "t = tuple(l)\n",
    "print(t)"
   ]
  },
  {
   "cell_type": "markdown",
   "metadata": {},
   "source": [
    "## Dictionary()\n",
    "\n",
    "Dictionaries are used to store data values in key:value pairs.\n",
    "\n",
    "A dictionary is a collection which is ordered and changeable but does not allow duplicates."
   ]
  },
  {
   "cell_type": "code",
   "execution_count": 7,
   "metadata": {},
   "outputs": [
    {
     "name": "stdout",
     "output_type": "stream",
     "text": [
      "Empty Dictionary: \n",
      "{}\n",
      "{'item1': 2, 'item2': 120, 2: 3, 'item3': [1, 2, 3]}\n"
     ]
    }
   ],
   "source": [
    "# initialize a dictionary\n",
    "d = {}\n",
    "d1 = dict()\n",
    "print(\"Empty Dictionary: \")\n",
    "print(d)\n",
    "\n",
    "# using dict()\n",
    "d1 = dict({'item1': 2, 'item2': 2, 'item2': 120, 2: 3, 'item3': [1, 2, 3]})\n",
    "print(d1)"
   ]
  },
  {
   "cell_type": "code",
   "execution_count": 5,
   "metadata": {},
   "outputs": [
    {
     "name": "stdout",
     "output_type": "stream",
     "text": [
      "{1: 2, 12: 'a'}\n"
     ]
    }
   ],
   "source": [
    "d3 = {1:2,12:\"a\"}\n",
    "print(d3)"
   ]
  },
  {
   "cell_type": "code",
   "execution_count": 8,
   "metadata": {},
   "outputs": [
    {
     "name": "stdout",
     "output_type": "stream",
     "text": [
      "{'item1': 1}\n",
      "{'item1': 1, 'item2': 2}\n",
      "{'item1': 1, 'item2': 2, 2: 'item'}\n",
      "{'item1': 1, 'item2': 2, 2: 'item', 'item3': [1, 2, 3]}\n"
     ]
    }
   ],
   "source": [
    "d = {} # initial\n",
    "d[\"item1\"] = 1\n",
    "print(d)\n",
    "\n",
    "d[\"item2\"] = 2\n",
    "print(d)\n",
    "\n",
    "# key could be - int, str,\n",
    "d[2] = \"item\"\n",
    "print(d)\n",
    "\n",
    "#value could be int, str, list, dict, tuple etc\n",
    "d[\"item3\"] = [1,2,3]\n",
    "print(d)"
   ]
  },
  {
   "cell_type": "code",
   "execution_count": 9,
   "metadata": {},
   "outputs": [
    {
     "name": "stdout",
     "output_type": "stream",
     "text": [
      "2\n",
      "get keys as list\n",
      "dict_keys(['item1', 'item2', 2, 'item3'])\n",
      "get values as list\n",
      "dict_values([1, 2, 'item', [1, 2, 3]])\n"
     ]
    }
   ],
   "source": [
    "#get value of an item\n",
    "print(d[\"item2\"])\n",
    "\n",
    "print(\"get keys as list\")\n",
    "print(d.keys())\n",
    "\n",
    "print(\"get values as list\")\n",
    "print(d.values())"
   ]
  },
  {
   "cell_type": "code",
   "execution_count": 66,
   "metadata": {},
   "outputs": [
    {
     "name": "stdout",
     "output_type": "stream",
     "text": [
      "Delete an item\n",
      "{'item1': 1, 'item2': 2, 2: 'item', 'item3': [1, 2, 3]}\n",
      "1\n",
      "{'item2': 2, 2: 'item', 'item3': [1, 2, 3]}\n",
      "{}\n"
     ]
    }
   ],
   "source": [
    "print(\"Delete an item\")\n",
    "# Removing elements from a dictionary\n",
    "print(d)\n",
    "# remove a particular item, returns its value\n",
    "print(d.pop(\"item1\"))\n",
    "print(d)\n",
    "\n",
    "#clear all items\n",
    "d.clear()\n",
    "print(d)"
   ]
  },
  {
   "cell_type": "markdown",
   "metadata": {},
   "source": [
    "# for and while loop\n",
    "## for loop\n",
    "\n",
    "range(start,end,step): start is included,\n",
    "\n",
    "if step is 1, you do not need to fill\n",
    "\n",
    "Generally we use when we know the number of operation/action"
   ]
  },
  {
   "cell_type": "code",
   "execution_count": 15,
   "metadata": {},
   "outputs": [
    {
     "name": "stdout",
     "output_type": "stream",
     "text": [
      "0\n",
      "2\n",
      "4\n",
      "6\n",
      "8\n"
     ]
    }
   ],
   "source": [
    "for number in range(0,10,2):\n",
    "    print(number)\n",
    "\n",
    "    #number = 0, 2,4,..."
   ]
  },
  {
   "cell_type": "code",
   "execution_count": null,
   "metadata": {},
   "outputs": [],
   "source": [
    "print(\"same as\")\n",
    "for i in range(0,5):\n",
    "    print(i)"
   ]
  },
  {
   "cell_type": "code",
   "execution_count": 23,
   "metadata": {},
   "outputs": [
    {
     "name": "stdout",
     "output_type": "stream",
     "text": [
      "a\n",
      "b\n",
      "c\n",
      "d\n",
      "1\n",
      "2\n",
      "3\n"
     ]
    }
   ],
   "source": [
    "s = \"abcd123\"\n",
    "s1 = [1,2,3,\"a\",\"b\"]\n",
    "\n",
    "for l in s: # direct reach of items in s\n",
    "    print(l)"
   ]
  },
  {
   "cell_type": "code",
   "execution_count": 20,
   "metadata": {},
   "outputs": [
    {
     "data": {
      "text/plain": [
       "7"
      ]
     },
     "execution_count": 20,
     "metadata": {},
     "output_type": "execute_result"
    }
   ],
   "source": [
    "len(s)"
   ]
  },
  {
   "cell_type": "code",
   "execution_count": 22,
   "metadata": {},
   "outputs": [
    {
     "name": "stdout",
     "output_type": "stream",
     "text": [
      "a\n",
      "b\n",
      "c\n",
      "d\n",
      "1\n",
      "2\n",
      "3\n"
     ]
    }
   ],
   "source": [
    "for i in range(len(s)): # reach of items in s using index\n",
    "    print(s[i])"
   ]
  },
  {
   "cell_type": "markdown",
   "metadata": {},
   "source": [
    "## while loop\n",
    "\n",
    "j = initialize variable\n",
    "\n",
    "while(condition):\n",
    "    statement\n",
    "    update j\n",
    "\n",
    "step "
   ]
  },
  {
   "cell_type": "code",
   "execution_count": 1,
   "metadata": {},
   "outputs": [
    {
     "name": "stdout",
     "output_type": "stream",
     "text": [
      "0\n",
      "1\n",
      "2\n",
      "3\n",
      "4\n"
     ]
    }
   ],
   "source": [
    "i = 0 # initial value\n",
    "while(i<5): # i=0,1,2,3,4\n",
    "    print(i)\n",
    "    i = i + 1 # step ---"
   ]
  },
  {
   "cell_type": "code",
   "execution_count": 4,
   "metadata": {
    "scrolled": true
   },
   "outputs": [
    {
     "name": "stdout",
     "output_type": "stream",
     "text": [
      "a\n",
      "b\n",
      "c\n",
      "d\n",
      "1\n",
      "2\n",
      "3\n"
     ]
    }
   ],
   "source": [
    "s = \"abcd123\"\n",
    "\n",
    "index = 0\n",
    "while(index < len(s)):\n",
    "    \n",
    "    print(s[index])\n",
    "    index = index + 1 # index +=1"
   ]
  },
  {
   "cell_type": "code",
   "execution_count": 1,
   "metadata": {},
   "outputs": [],
   "source": [
    "from turtle import *\n",
    "\n",
    "left(90)\n",
    "forward(150)\n",
    "left(90)\n",
    "forward(150)\n",
    "left(90)\n",
    "forward(150)\n",
    "left(90)\n",
    "forward(150)\n",
    "\n",
    "done() \n",
    " "
   ]
  },
  {
   "cell_type": "code",
   "execution_count": 1,
   "metadata": {},
   "outputs": [
    {
     "name": "stdout",
     "output_type": "stream",
     "text": [
      "(0.00,150.00)\n",
      "(-150.00,150.00)\n",
      "(-150.00,0.00)\n",
      "(-0.00,-0.00)\n"
     ]
    }
   ],
   "source": [
    "from turtle import *\n",
    "\n",
    "for i in range(4):\n",
    "    left(90)\n",
    "    forward(150)\n",
    "\n",
    "    print(pos())\n",
    "\n",
    "done() "
   ]
  },
  {
   "cell_type": "code",
   "execution_count": 1,
   "metadata": {},
   "outputs": [],
   "source": [
    "from turtle import *\n",
    "\n",
    "edge_count = 0\n",
    "while edge_count < 4:\n",
    "    left(90)\n",
    "    forward(150)\n",
    "    edge_count = edge_count + 1 "
   ]
  },
  {
   "cell_type": "code",
   "execution_count": 1,
   "metadata": {},
   "outputs": [],
   "source": [
    "from turtle import *\n",
    "\n",
    "edge_count = 8\n",
    "for i in range(edge_count):\n",
    "    left(45)\n",
    "    forward(75)"
   ]
  },
  {
   "cell_type": "markdown",
   "metadata": {},
   "source": [
    "![PIC2](Data/polygon_rule.jpeg)"
   ]
  },
  {
   "cell_type": "code",
   "execution_count": 3,
   "metadata": {},
   "outputs": [],
   "source": [
    "from turtle import *\n",
    "\n",
    "edge_count = 8\n",
    "turn_angle = 360 / edge_count\n",
    "\n",
    "edge_length = 100\n",
    "for i in range(edge_count):\n",
    "    left(turn_angle)\n",
    "    forward(edge_length)"
   ]
  },
  {
   "cell_type": "markdown",
   "metadata": {},
   "source": [
    "## Example-1: Area of a trianle using 3 sides "
   ]
  },
  {
   "cell_type": "markdown",
   "metadata": {},
   "source": [
    "![PIC2](Data/herons_formula.png)"
   ]
  },
  {
   "cell_type": "code",
   "execution_count": 11,
   "metadata": {},
   "outputs": [
    {
     "name": "stdout",
     "output_type": "stream",
     "text": [
      "The area of the triangle is 7.644442425710328\n",
      "The area of the triangle is 7.64444\n"
     ]
    }
   ],
   "source": [
    "\n",
    "# give values for a,b and c\n",
    "a = 3\n",
    "b = 6\n",
    "c = 8\n",
    "\n",
    "# calculate the semi-perimeter\n",
    "s = (a + b + c) / 2\n",
    "\n",
    "# calculate the area\n",
    "area = (s*(s-a)*(s-b)*(s-c)) ** 0.5\n",
    "print('The area of the triangle is ' + str(area))\n",
    "print('The area of the triangle is %0.5f' % area)"
   ]
  },
  {
   "cell_type": "markdown",
   "metadata": {},
   "source": [
    "## Example-2: Check if a Number is Positive, Negative or 0"
   ]
  },
  {
   "cell_type": "code",
   "execution_count": 14,
   "metadata": {},
   "outputs": [
    {
     "name": "stdout",
     "output_type": "stream",
     "text": [
      "Zero\n"
     ]
    }
   ],
   "source": [
    "\n",
    "number = -0\n",
    "\n",
    "if number > 0:\n",
    "    print(\"Positive number\")\n",
    "elif number < 0:\n",
    "    print(\"Negative number\")  \n",
    "else: # number == 0\n",
    "    print(\"Zero\")\n"
   ]
  },
  {
   "cell_type": "markdown",
   "metadata": {},
   "source": [
    "## Example-3\n",
    "Write a function that takes two integers and prints the sum of all odd integers and the sum of\n",
    "the even integers between them (separately). For example. \n",
    "\n",
    "If the two numbers are 1 and 7 the function should print:\n",
    "\n",
    "Sum of Odds= 8\n",
    "Sum of Evens= 12"
   ]
  },
  {
   "cell_type": "code",
   "execution_count": 15,
   "metadata": {
    "scrolled": true
   },
   "outputs": [
    {
     "name": "stdout",
     "output_type": "stream",
     "text": [
      "Sum of Evens = 20\n",
      "Sum of Odds = 25\n"
     ]
    }
   ],
   "source": [
    "start = 0\n",
    "end = 10\n",
    "\n",
    "even_sum = 0\n",
    "odd_sum = 0\n",
    "\n",
    "for number in range(start+1, end):\n",
    "    if number%2 == 0:\n",
    "        even_sum = even_sum + number\n",
    "    else:\n",
    "        odd_sum = odd_sum + number\n",
    "\n",
    "print(\"Sum of Evens = \" + str(even_sum))\n",
    "print(\"Sum of Odds = \" + str(odd_sum))\n"
   ]
  },
  {
   "cell_type": "markdown",
   "metadata": {},
   "source": [
    "## Example-4 Check Prime Number\n",
    "\n",
    "A positive integer greater than 1 which has no other factors except 1 and the number itself is called a prime number. 2, 3, 5, 7 etc. "
   ]
  },
  {
   "cell_type": "markdown",
   "metadata": {},
   "source": [
    "![PIC2](Data/prime_number.gif)"
   ]
  },
  {
   "cell_type": "code",
   "execution_count": 16,
   "metadata": {},
   "outputs": [
    {
     "name": "stdout",
     "output_type": "stream",
     "text": [
      "11  is a prime number !!\n"
     ]
    }
   ],
   "source": [
    "number = 11\n",
    "# flag variable to tell use whether condition is satisfied or not\n",
    "divisible = False\n",
    "\n",
    "# number must be greater than 1\n",
    "if number > 1:\n",
    "    #check divisibility for each number from 2 to number-1\n",
    "    for k in range(2,number):  \n",
    "        if (number%k ==0):\n",
    "            # chnage flag to True if the factor is found\n",
    "            divisible = True\n",
    "            break # break out the loop, jump to next line\n",
    "\n",
    "#---- jump here\n",
    "# check the factor           \n",
    "if (divisible):\n",
    "    print(number, \" is NOT a prime number !!\" )\n",
    "else:\n",
    "    print(number, \" is a prime number !!\" )\n",
    "    \n",
    "    "
   ]
  },
  {
   "cell_type": "code",
   "execution_count": null,
   "metadata": {},
   "outputs": [],
   "source": []
  }
 ],
 "metadata": {
  "kernelspec": {
   "display_name": "Python 3 (ipykernel)",
   "language": "python",
   "name": "python3"
  },
  "language_info": {
   "codemirror_mode": {
    "name": "ipython",
    "version": 3
   },
   "file_extension": ".py",
   "mimetype": "text/x-python",
   "name": "python",
   "nbconvert_exporter": "python",
   "pygments_lexer": "ipython3",
   "version": "3.9.7"
  }
 },
 "nbformat": 4,
 "nbformat_minor": 4
}
