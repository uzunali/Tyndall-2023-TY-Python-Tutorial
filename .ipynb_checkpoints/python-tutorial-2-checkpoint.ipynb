{
 "cells": [
  {
   "cell_type": "code",
   "execution_count": null,
   "metadata": {},
   "outputs": [],
   "source": []
  },
  {
   "cell_type": "markdown",
   "metadata": {},
   "source": [
    "# Function\n",
    "\n",
    "A function is a block of code which only runs when it is called.\n",
    "\n",
    "Functions help \n",
    "1) break our program into smaller and modular chunks. \n",
    "\n",
    "2) As our program grows larger and larger, functions make it more organized and manageable.\n",
    "\n",
    "3) it avoids repetition and makes the code reusable.\n",
    "\n",
    "You can pass data, known as parameters, into a function.\n",
    "\n",
    "A function can return data as a result."
   ]
  },
  {
   "cell_type": "markdown",
   "metadata": {},
   "source": [
    "![PIC2](Data/function.jpeg)"
   ]
  },
  {
   "cell_type": "code",
   "execution_count": 2,
   "metadata": {},
   "outputs": [
    {
     "name": "stdout",
     "output_type": "stream",
     "text": [
      "Hello from a function\n"
     ]
    }
   ],
   "source": [
    "def say_hello():\n",
    "    print(\"Hello from a function\")\n",
    "    #return(\"Hello from a function\")\n",
    "\n",
    "#calling a function\n",
    "say_hello()"
   ]
  },
  {
   "cell_type": "code",
   "execution_count": 3,
   "metadata": {},
   "outputs": [
    {
     "name": "stdout",
     "output_type": "stream",
     "text": [
      "Hello from Ali\n",
      "Hello from Brian\n"
     ]
    }
   ],
   "source": [
    "#Parameters or Arguments: information that are passed into a function.\n",
    "def say_hello(person):\n",
    "  print(\"Hello from \" + person)\n",
    "\n",
    "say_hello(\"Ali\")\n",
    "\n",
    "say_hello(\"Brian\")"
   ]
  },
  {
   "cell_type": "markdown",
   "metadata": {},
   "source": [
    "## Local and Global Variables"
   ]
  },
  {
   "cell_type": "code",
   "execution_count": 1,
   "metadata": {},
   "outputs": [
    {
     "name": "stdout",
     "output_type": "stream",
     "text": [
      "Variable x is global\n",
      "But variable a is local\n"
     ]
    },
    {
     "ename": "NameError",
     "evalue": "name 'a' is not defined",
     "output_type": "error",
     "traceback": [
      "\u001b[0;31m---------------------------------------------------------------------------\u001b[0m",
      "\u001b[0;31mNameError\u001b[0m                                 Traceback (most recent call last)",
      "\u001b[0;32m/var/folders/yf/jl6pxxbs25q5wxcsrl73vqw00000gn/T/ipykernel_6355/2240928537.py\u001b[0m in \u001b[0;36m<module>\u001b[0;34m\u001b[0m\n\u001b[1;32m      8\u001b[0m \u001b[0mf1\u001b[0m\u001b[0;34m(\u001b[0m\u001b[0;34m)\u001b[0m\u001b[0;34m\u001b[0m\u001b[0;34m\u001b[0m\u001b[0m\n\u001b[1;32m      9\u001b[0m \u001b[0;34m\u001b[0m\u001b[0m\n\u001b[0;32m---> 10\u001b[0;31m \u001b[0mprint\u001b[0m\u001b[0;34m(\u001b[0m\u001b[0ma\u001b[0m\u001b[0;34m)\u001b[0m\u001b[0;34m\u001b[0m\u001b[0;34m\u001b[0m\u001b[0m\n\u001b[0m",
      "\u001b[0;31mNameError\u001b[0m: name 'a' is not defined"
     ]
    }
   ],
   "source": [
    "x = \"global\"\n",
    "\n",
    "def f1():\n",
    "    print(\"Variable x is \" + x)\n",
    "    #global y\n",
    "    a = \"local\"\n",
    "    print(\"But variable a is \" + a)\n",
    "f1()\n",
    "\n",
    "#print(a)"
   ]
  },
  {
   "cell_type": "code",
   "execution_count": 9,
   "metadata": {},
   "outputs": [
    {
     "name": "stdout",
     "output_type": "stream",
     "text": [
      "global\n",
      "abcde\n"
     ]
    }
   ],
   "source": [
    "print(x)\n",
    "print(a)"
   ]
  },
  {
   "cell_type": "markdown",
   "metadata": {},
   "source": [
    "# Keyboard Input\n",
    "\n",
    "When you get an input from user, its type is string by default"
   ]
  },
  {
   "cell_type": "code",
   "execution_count": 1,
   "metadata": {},
   "outputs": [
    {
     "name": "stdout",
     "output_type": "stream",
     "text": [
      "Enter your name:\n",
      "ali\n",
      "Enter your surname:\n",
      "uzun\n",
      "Enter your company:\n",
      "tyndall\n",
      "Hello, ali uzun - tyndall\n"
     ]
    }
   ],
   "source": [
    "print('Enter your name:')\n",
    "name = input()\n",
    "\n",
    "print('Enter your surname:')\n",
    "surname = input()\n",
    "\n",
    "print('Enter your company:')\n",
    "company = input()\n",
    "\n",
    "print('Hello, ' + name + \" \" + surname + \" - \" + company)"
   ]
  },
  {
   "cell_type": "code",
   "execution_count": 9,
   "metadata": {},
   "outputs": [
    {
     "name": "stdout",
     "output_type": "stream",
     "text": [
      "Please enter a number: 10\n",
      "55\n"
     ]
    }
   ],
   "source": [
    "# sum number from 1 to n\n",
    "def sum_1_to_n():\n",
    "    n = input(\"Please enter a number: \")\n",
    "    n = int(n) # convert n to int\n",
    "    #n = 10\n",
    "    total_sum = 0\n",
    "    for i in range(1,n+1):\n",
    "        total_sum = total_sum + i # 1,2,3....n\n",
    "    print(total_sum)\n",
    "sum_1_to_n()"
   ]
  },
  {
   "cell_type": "markdown",
   "metadata": {},
   "source": [
    "## Other useful pyton function\n",
    "\n",
    "1) len() -- calculate number of character in a string\n",
    "\n",
    "2) upper() and lower() -- create a new string that is all uppercase or lowercase\n",
    "\n",
    "3) abs() -- return absolute value of a negative number\n",
    "\n",
    "4) min() and max() -- return min and max item in a list\n",
    "\n",
    "5) strip() -- return a new string with extra spaces (whitespace) are removed\n",
    "\n",
    "6) split() -- return list of string that is splited according to selected delimiter (space, \",\", )\n",
    "\n",
    "and many more"
   ]
  },
  {
   "cell_type": "code",
   "execution_count": 6,
   "metadata": {},
   "outputs": [
    {
     "name": "stdout",
     "output_type": "stream",
     "text": [
      "5\n",
      "6\n",
      "ABCDE\n",
      "1.2\n",
      "3\n",
      "3\n",
      "ali\n",
      "['This', 'is', 'an', 'split', 'example']\n",
      "['This', ' is', ' an', ' split example']\n"
     ]
    }
   ],
   "source": [
    "# length of a stering, list, tupple\n",
    "\n",
    "a = \"abcde\"\n",
    "print(len(a))\n",
    "\n",
    "a = [1,2,3,4,\"a\",\"b\"]\n",
    "print(len(a))\n",
    "\n",
    "a = \"abcde\"\n",
    "print(a.upper())\n",
    "\n",
    "print(abs(-1.2))\n",
    "\n",
    "print(max([1,2,3]))\n",
    "\n",
    "print(min((3,7,4)))\n",
    "\n",
    "s = \" ali \"\n",
    "print(s.strip())\n",
    "\n",
    "s = \"This is an split example\"\n",
    "print(s.split())\n",
    "\n",
    "s = \"This, is, an, split example\"\n",
    "print(s.split(\",\"))\n"
   ]
  },
  {
   "cell_type": "code",
   "execution_count": 7,
   "metadata": {},
   "outputs": [
    {
     "ename": "TypeError",
     "evalue": "object of type 'int' has no len()",
     "output_type": "error",
     "traceback": [
      "\u001b[0;31m---------------------------------------------------------------------------\u001b[0m",
      "\u001b[0;31mTypeError\u001b[0m                                 Traceback (most recent call last)",
      "\u001b[0;32m/var/folders/yf/jl6pxxbs25q5wxcsrl73vqw00000gn/T/ipykernel_957/1906371528.py\u001b[0m in \u001b[0;36m<module>\u001b[0;34m\u001b[0m\n\u001b[0;32m----> 1\u001b[0;31m \u001b[0mlen\u001b[0m\u001b[0;34m(\u001b[0m\u001b[0;36m123\u001b[0m\u001b[0;34m)\u001b[0m\u001b[0;34m\u001b[0m\u001b[0;34m\u001b[0m\u001b[0m\n\u001b[0m",
      "\u001b[0;31mTypeError\u001b[0m: object of type 'int' has no len()"
     ]
    }
   ],
   "source": [
    "len(123)"
   ]
  },
  {
   "cell_type": "markdown",
   "metadata": {},
   "source": [
    "# Using Python Library"
   ]
  },
  {
   "cell_type": "code",
   "execution_count": 10,
   "metadata": {},
   "outputs": [
    {
     "name": "stdout",
     "output_type": "stream",
     "text": [
      "4.0\n",
      "4.0\n",
      "0.49999999999999994\n"
     ]
    }
   ],
   "source": [
    "import math\n",
    "import math as mt\n",
    "\n",
    "#print(math.)\n",
    "print(math.sqrt(16))\n",
    "print(mt.sqrt(16))\n",
    "\n",
    "print(math.sin(math.radians(30)))"
   ]
  },
  {
   "cell_type": "code",
   "execution_count": null,
   "metadata": {},
   "outputs": [],
   "source": []
  },
  {
   "cell_type": "markdown",
   "metadata": {},
   "source": [
    "## Example-1: Area of a trianle using 3 sides "
   ]
  },
  {
   "cell_type": "markdown",
   "metadata": {},
   "source": [
    "![PIC2](Data/herons_formula.png)"
   ]
  },
  {
   "cell_type": "code",
   "execution_count": 11,
   "metadata": {},
   "outputs": [],
   "source": [
    "def get_triangle_area_v1():\n",
    "    #take inputs from the user\n",
    "    a = float(input('Enter first side (a): '))\n",
    "    b = float(input('Enter second side (b): '))\n",
    "    c = float(input('Enter third side (c): '))\n",
    "\n",
    "    # calculate the semi-perimeter\n",
    "    s = (a + b + c) / 2\n",
    "\n",
    "    # calculate the area\n",
    "    area = (s*(s-a)*(s-b)*(s-c)) ** 0.5\n",
    "    print('The area of the triangle is %0.2f' %area)"
   ]
  },
  {
   "cell_type": "code",
   "execution_count": 12,
   "metadata": {},
   "outputs": [
    {
     "name": "stdout",
     "output_type": "stream",
     "text": [
      "Enter first side (a): 6\n",
      "Enter second side (b): 12\n",
      "Enter third side (c): 10\n",
      "The area of the triangle is 29.93\n"
     ]
    }
   ],
   "source": [
    "get_triangle_area_v1()"
   ]
  },
  {
   "cell_type": "code",
   "execution_count": 14,
   "metadata": {},
   "outputs": [],
   "source": [
    "def get_triangle_area_v2(a=None,b=None,c=None):\n",
    "    if a==None or b==None or c==None:\n",
    "        # Uncomment below to take inputs from the user\n",
    "        a = float(input('Enter first side (a): '))\n",
    "        b = float(input('Enter second side (b): '))\n",
    "        c = float(input('Enter third side (c): '))\n",
    "\n",
    "    # calculate the semi-perimeter\n",
    "    s = (a + b + c) / 2\n",
    "\n",
    "    # calculate the area\n",
    "    area = (s*(s-a)*(s-b)*(s-c)) ** 0.5\n",
    "    print('The area of the triangle is %0.2f' %area)"
   ]
  },
  {
   "cell_type": "code",
   "execution_count": 16,
   "metadata": {},
   "outputs": [
    {
     "name": "stdout",
     "output_type": "stream",
     "text": [
      "Enter first side (a): 6\n",
      "Enter second side (b): 8\n",
      "Enter third side (c): 10\n",
      "The area of the triangle is 24.00\n"
     ]
    }
   ],
   "source": [
    "get_triangle_area_v2(a=6,b=8)\n",
    "#get_triangle_area_v2(6,8,10)"
   ]
  },
  {
   "cell_type": "code",
   "execution_count": 97,
   "metadata": {},
   "outputs": [
    {
     "name": "stdout",
     "output_type": "stream",
     "text": [
      "Enter first side (a): 6\n",
      "Enter second side (b): 8\n",
      "Enter third side (c): 10\n",
      "The area of the triangle is 24.00\n"
     ]
    }
   ],
   "source": [
    "get_triangle_area_v2(6,8)"
   ]
  },
  {
   "cell_type": "markdown",
   "metadata": {},
   "source": [
    "## Example-2: Check if a Number is Positive, Negative or 0"
   ]
  },
  {
   "cell_type": "code",
   "execution_count": 98,
   "metadata": {},
   "outputs": [
    {
     "name": "stdout",
     "output_type": "stream",
     "text": [
      "Enter a number: -0.002\n",
      "Negative number\n"
     ]
    }
   ],
   "source": [
    "def check_number_v1():\n",
    "    number = float(input(\"Enter a number: \"))\n",
    "    if number > 0:\n",
    "        print(\"Positive number\")\n",
    "    elif number < 0:\n",
    "        print(\"Negative number\")  \n",
    "    else:\n",
    "        print(\"Zero\")\n",
    "check_number_v1()"
   ]
  },
  {
   "cell_type": "code",
   "execution_count": 99,
   "metadata": {},
   "outputs": [
    {
     "name": "stdout",
     "output_type": "stream",
     "text": [
      "Enter a number: 2\n",
      "Positive number\n"
     ]
    }
   ],
   "source": [
    "# using nested if\n",
    "def check_number_v2():\n",
    "    number = float(input(\"Enter a number: \"))\n",
    "    if number >= 0:\n",
    "       if number == 0:\n",
    "           print(\"Zero\")\n",
    "       else:\n",
    "           print(\"Positive number\")\n",
    "    else:\n",
    "       print(\"Negative number\")\n",
    "check_number_v2()"
   ]
  },
  {
   "cell_type": "code",
   "execution_count": 16,
   "metadata": {},
   "outputs": [
    {
     "name": "stdout",
     "output_type": "stream",
     "text": [
      "Enter a number: -0.02\n",
      "Negative number\n"
     ]
    }
   ],
   "source": [
    "check_number_v2()"
   ]
  },
  {
   "cell_type": "markdown",
   "metadata": {},
   "source": [
    "## Example-3\n",
    "Write a function that takes two integers and prints the sum of all odd integers and the sum of\n",
    "the even integers between them (separately). For example. \n",
    "\n",
    "If the two numbers are 1 and 7 the function should print:\n",
    "\n",
    "Sum of Odds= 8\n",
    "Sum of Evens= 12"
   ]
  },
  {
   "cell_type": "code",
   "execution_count": 100,
   "metadata": {
    "scrolled": true
   },
   "outputs": [
    {
     "name": "stdout",
     "output_type": "stream",
     "text": [
      "Sum of Evens = 12\n",
      "Sum of Odds = 8\n"
     ]
    }
   ],
   "source": [
    "def sum_number(start, end):\n",
    "    even_sum = 0\n",
    "    odd_sum = 0\n",
    "    for number in range(start+1, end):\n",
    "        if number%2 == 0:\n",
    "            even_sum = even_sum + number\n",
    "        else:\n",
    "            odd_sum = odd_sum + number\n",
    "            \n",
    "    print(\"Sum of Evens = \" + str(even_sum))\n",
    "    print(\"Sum of Odds = \" + str(odd_sum))\n",
    "sum_number(1,7)"
   ]
  },
  {
   "cell_type": "markdown",
   "metadata": {},
   "source": [
    "## Example-4 Check Prime Number\n",
    "\n",
    "A positive integer greater than 1 which has no other factors except 1 and the number itself is called a prime number. 2, 3, 5, 7 etc. "
   ]
  },
  {
   "cell_type": "markdown",
   "metadata": {},
   "source": [
    "![PIC2](Data/prime_number.gif)"
   ]
  },
  {
   "cell_type": "code",
   "execution_count": 101,
   "metadata": {},
   "outputs": [],
   "source": [
    "def check_prime_number():\n",
    "    number = int(input(\"Enter a number: \"))\n",
    "    # flag variable to tell use whether condition is satisfied or not\n",
    "    divisible = False\n",
    "    \n",
    "    # number must be greater than 1\n",
    "    if number > 1:\n",
    "        #check divisibility for each number from 2 to number-1\n",
    "        for k in range(2,number):  \n",
    "            if (number%k ==0):\n",
    "                # chnage flag to True if the factor is found\n",
    "                divisible = True\n",
    "                break # break out the loop, jump to next line\n",
    "                \n",
    "    #---- jump here\n",
    "    # check the factor           \n",
    "    if (divisible):\n",
    "        print(number, \" is NOT a prime number !!\" )\n",
    "    else:\n",
    "        print(number, \" is a prime number !!\" )\n",
    "    \n",
    "    "
   ]
  },
  {
   "cell_type": "code",
   "execution_count": 103,
   "metadata": {},
   "outputs": [
    {
     "name": "stdout",
     "output_type": "stream",
     "text": [
      "Enter a number: 7\n",
      "7  is a prime number !!\n"
     ]
    }
   ],
   "source": [
    "check_prime_number()"
   ]
  },
  {
   "cell_type": "markdown",
   "metadata": {},
   "source": [
    "# Open file \n",
    "The open() function takes two parameters; filename, and mode.\n",
    "\n",
    "There are four different methods (modes) for opening a file:\n",
    "\n",
    "\"r\" - Read - Default value. Opens a file for reading, error if the file does not exist\n",
    "\n",
    "\"a\" - Append - Opens a file for appending, creates the file if it does not exist\n",
    "\n",
    "\"w\" - Write - Opens a file for writing, creates the file if it does not exist\n",
    "\n",
    "\"x\" - Create - Creates the specified file, returns an error if the file exists\n",
    "\n",
    "In addition you can specify if the file should be handled as binary or text mode\n",
    "\n",
    "\"t\" - Text - Default value. Text mode\n",
    "\n",
    "\"b\" - Binary - Binary mode (e.g. images)"
   ]
  },
  {
   "cell_type": "code",
   "execution_count": 17,
   "metadata": {},
   "outputs": [
    {
     "name": "stdout",
     "output_type": "stream",
     "text": [
      "line 1\n",
      "line 2\n",
      "line 3\n",
      "line 4\n",
      "line 5\n",
      "\n"
     ]
    }
   ],
   "source": [
    "f = open(\"Data/demofile.txt\", \"r\") # open the file in read mode\n",
    "#By default the read() method returns the whole text\n",
    "print(f.read())\n",
    "#print(\"-------\")\n",
    "#but you can also specify how many characters you want to return\n",
    "#print(f.read(4))\n",
    "f.close() # make sure to close the file once your are done with it"
   ]
  },
  {
   "cell_type": "markdown",
   "metadata": {},
   "source": [
    "##  readline()\n",
    "You can return one line by using the readline() method:"
   ]
  },
  {
   "cell_type": "code",
   "execution_count": 18,
   "metadata": {},
   "outputs": [
    {
     "name": "stdout",
     "output_type": "stream",
     "text": [
      "line 1\n",
      "\n"
     ]
    }
   ],
   "source": [
    "f = open(\"Data/demofile.txt\", \"r\") # open the file in read mode\n",
    "print(f.readline())"
   ]
  },
  {
   "cell_type": "code",
   "execution_count": 20,
   "metadata": {},
   "outputs": [
    {
     "name": "stdout",
     "output_type": "stream",
     "text": [
      "line 3\n",
      "\n"
     ]
    }
   ],
   "source": [
    "print(f.readline())"
   ]
  },
  {
   "cell_type": "code",
   "execution_count": 5,
   "metadata": {},
   "outputs": [
    {
     "name": "stdout",
     "output_type": "stream",
     "text": [
      "line 4\n",
      "\n"
     ]
    }
   ],
   "source": [
    "# Each time I call readline() method, it return the next line\n",
    "print(f.readline())\n",
    "f.close()"
   ]
  },
  {
   "cell_type": "code",
   "execution_count": 6,
   "metadata": {},
   "outputs": [
    {
     "name": "stdout",
     "output_type": "stream",
     "text": [
      "line 1\n",
      "line 2\n",
      "line 3\n",
      "line 4\n",
      "line 5\n"
     ]
    }
   ],
   "source": [
    "f = open(\"Data/demofile.txt\", \"r\")\n",
    "for line in f:\n",
    "    #print(line)\n",
    "    print(line.strip(\"\\n\"))\n",
    "f.close()"
   ]
  },
  {
   "cell_type": "markdown",
   "metadata": {},
   "source": [
    "### Append and write mode"
   ]
  },
  {
   "cell_type": "code",
   "execution_count": 26,
   "metadata": {},
   "outputs": [
    {
     "name": "stdout",
     "output_type": "stream",
     "text": [
      "line 1\n",
      "line 2\n",
      "line 3\n",
      "line 4\n",
      "line 5\n",
      "\n",
      "New line 6New line 7 New line 6\n",
      " New line 7 New line 6 New line 7 New line 6 New line 7\n",
      " New line 6\n",
      " New line 7\n",
      " New line 6\n",
      " New line 7\n"
     ]
    }
   ],
   "source": [
    "f = open(\"Data/demofile.txt\", \"a\")\n",
    "f.write(\"\\n New line 6\") # \\n is new line command\n",
    "f.write(\"\\n New line 7\") # \\n is new line command\n",
    "f.close()\n",
    "\n",
    "#open and read the file after the appending:\n",
    "f = open(\"Data/demofile.txt\", \"r\")\n",
    "print(f.read())"
   ]
  },
  {
   "cell_type": "code",
   "execution_count": 27,
   "metadata": {
    "scrolled": true
   },
   "outputs": [
    {
     "name": "stdout",
     "output_type": "stream",
     "text": [
      "I deleted the content, careful with w mode 555 !!!\n"
     ]
    }
   ],
   "source": [
    "f = open(\"Data/demofile22.txt\", \"w\")\n",
    "f.write(\"I deleted the content, careful with w mode 555 !!!\") # \n",
    "f.close()\n",
    "\n",
    "#open and read the file after the writing:\n",
    "f = open(\"Data/demofile22.txt\", \"r\")\n",
    "print(f.read())"
   ]
  },
  {
   "cell_type": "code",
   "execution_count": null,
   "metadata": {},
   "outputs": [],
   "source": []
  },
  {
   "cell_type": "code",
   "execution_count": null,
   "metadata": {},
   "outputs": [],
   "source": []
  },
  {
   "cell_type": "markdown",
   "metadata": {},
   "source": [
    "# Open other files: .csv, .dat, excel"
   ]
  },
  {
   "cell_type": "code",
   "execution_count": 28,
   "metadata": {
    "scrolled": false
   },
   "outputs": [
    {
     "name": "stdout",
     "output_type": "stream",
     "text": [
      "line-1,cell-1,\n",
      "\n"
     ]
    }
   ],
   "source": [
    "f = open(\"Data/demofile2.csv\", \"r\")\n",
    "print(f.readline())"
   ]
  },
  {
   "cell_type": "code",
   "execution_count": 30,
   "metadata": {},
   "outputs": [
    {
     "name": "stdout",
     "output_type": "stream",
     "text": [
      "line-3,cell-3,\n",
      "\n"
     ]
    }
   ],
   "source": [
    "print(f.readline())"
   ]
  },
  {
   "cell_type": "code",
   "execution_count": 31,
   "metadata": {},
   "outputs": [
    {
     "name": "stdout",
     "output_type": "stream",
     "text": [
      "line-4,cell-4,\n",
      "line-5,cell-5,\n",
      "line-6,cell-6,\n",
      "line-7,cell-7,\n",
      "line-8,cell-8,\n",
      "line-9,cell-9,\n",
      "line-10,cell-10,\n",
      "line-11,cell-11,\n",
      "line-12,cell-12,\n",
      "line-13,cell-13,\n",
      "line-14,cell-14,\n",
      "line-15,cell-15,\n",
      "line-16,cell-16,\n",
      "line-17,cell-17,\n",
      "line-18,cell-18,\n",
      "line-19,cell-19,\n",
      "line-20,cell-20,\n"
     ]
    }
   ],
   "source": [
    "print(f.read())"
   ]
  },
  {
   "cell_type": "code",
   "execution_count": 32,
   "metadata": {},
   "outputs": [
    {
     "name": "stdout",
     "output_type": "stream",
     "text": [
      "0    0.000011\n",
      "1    0.001009\n",
      "2    0.002010\n",
      "3    0.003011\n",
      "4    0.004010\n",
      "5    0.005010\n",
      "6    0.006011\n",
      "7    0.007010\n",
      "8    0.008011\n",
      "9    0.009011\n",
      "Name: x, dtype: float64 0    0.015010\n",
      "1    0.917516\n",
      "2    1.017920\n",
      "3    1.071700\n",
      "4    1.116100\n",
      "5    1.156230\n",
      "6    1.193890\n",
      "7    1.229730\n",
      "8    1.264340\n",
      "9    1.297870\n",
      "Name: y, dtype: float64\n"
     ]
    }
   ],
   "source": [
    "import pandas as pd\n",
    "\n",
    "filename = \"Data/demofile2a.csv\"\n",
    "df = pd.read_csv (filename)\n",
    "        \n",
    "x = df['x']\n",
    "y = df['y']\n",
    "print(x[:10],y[:10])"
   ]
  },
  {
   "cell_type": "code",
   "execution_count": 11,
   "metadata": {},
   "outputs": [
    {
     "name": "stdout",
     "output_type": "stream",
     "text": [
      "0.000000000000,-0.000000075899,0.748866000000\n",
      "0.001000000000,-0.000000085397,1.077630000000\n",
      "0.002000000000,0.000000065668,1.208410000000\n",
      "0.003000000000,0.000001531397,1.294310000000\n",
      "0.004000000000,0.000001922020,1.357910000000\n",
      "0.005000000000,0.000002379847,1.412970000000\n",
      "0.006000000000,0.000002913821,1.458340000000\n",
      "0.007000000000,0.000003506594,1.499230000000\n",
      "0.008000000000,0.000004076800,1.535560000000\n",
      "0.009000000000,0.000004633406,1.569460000000\n",
      "0.010000000000,0.000005159574,1.600740000000\n",
      "0.011000000000,0.000005728765,1.631280000000\n",
      "0.012000000000,0.000006265422,1.658770000000\n",
      "0.013000000000,0.000006828738,1.686120000000\n",
      "0.014000000000,0.000007418336,1.711290000000\n",
      "0.015000000000,0.000008022876,1.736430000000\n",
      "0.016000000000,0.000008643764,1.759410000000\n",
      "0.017000000000,0.000009213642,1.782150000000\n",
      "0.018000000000,0.000009840389,1.803840000000\n",
      "0.019000000000,0.000010465237,1.824610000000\n",
      "0.020000000000,0.000011132079,1.845620000000\n",
      "0.021000000000,0.000011858390,1.865560000000\n",
      "0.022000000000,0.000012553133,1.885710000000\n",
      "0.023000000000,0.000013263718,1.904210000000\n",
      "0.024000000000,0.000013998883,1.922920000000\n",
      "0.025000000000,0.000014809163,1.940750000000\n",
      "0.026000000000,0.000015667196,1.958620000000\n",
      "0.027000000000,0.000016952176,1.975550000000\n",
      "0.028000000000,0.000017599248,1.992880000000\n",
      "0.029000000000,0.000018563801,2.009460000000\n",
      "0.030000000000,0.000019569267,2.025990000000\n",
      "0.031000000000,0.000020624646,2.041950000000\n",
      "0.032000000000,0.000021746630,2.057950000000\n",
      "0.033000000000,0.000022907072,2.073500000000\n",
      "0.034000000000,0.000024228546,2.089230000000\n",
      "0.035000000000,0.000025743781,2.104150000000\n",
      "0.036000000000,0.000027319895,2.118830000000\n",
      "0.037000000000,0.000029184032,2.133730000000\n",
      "0.038000000000,0.000031332756,2.147970000000\n",
      "0.039000000000,0.000034068330,2.162680000000\n",
      "0.040000000000,0.000037793331,2.176390000000\n",
      "0.041000000000,0.000044026923,2.190670000000\n",
      "0.042000000000,0.000067472404,2.203960000000\n",
      "0.043000000000,0.000129895878,2.217970000000\n",
      "0.044000000000,0.000249972102,2.231200000000\n",
      "0.045000000000,0.000304879950,2.245080000000\n",
      "0.046000000000,0.000385619951,2.258040000000\n",
      "0.047000000000,0.000468423578,2.271460000000\n",
      "0.048000000000,0.000549934370,2.284290000000\n",
      "0.049000000000,0.000630451806,2.297480000000\n",
      "0.050000000000,0.000711610751,2.309760000000\n",
      "0.051000000000,0.000790840262,2.321720000000\n",
      "0.052000000000,0.000870010859,2.332550000000\n",
      "0.053000000000,0.000947648055,2.343200000000\n",
      "0.054000000000,0.001027335786,2.354470000000\n",
      "0.055000000000,0.001107537378,2.364750000000\n",
      "0.056000000000,0.001187750426,2.374020000000\n",
      "0.057000000000,0.001266199326,2.383760000000\n",
      "0.058000000000,0.001340913733,2.393110000000\n",
      "0.059000000000,0.001415253383,2.401430000000\n",
      "0.060000000000,0.001490558567,2.409940000000\n",
      "0.061000000000,0.001568631072,2.417050000000\n",
      "0.062000000000,0.001673517630,2.422870000000\n",
      "0.063000000000,0.001722792645,2.429430000000\n",
      "0.064000000000,0.001797907995,2.437060000000\n",
      "0.065000000000,0.001874872590,2.443360000000\n",
      "0.066000000000,0.001953015465,2.450930000000\n",
      "0.067000000000,0.002030634660,2.456380000000\n",
      "0.068000000000,0.002106830100,2.462890000000\n",
      "0.069000000000,0.002182092735,2.468730000000\n",
      "0.070000000000,0.002255211555,2.474940000000\n",
      "0.071000000000,0.002329132260,2.481030000000\n",
      "0.072000000000,0.002400107265,2.486610000000\n",
      "0.073000000000,0.002471098635,2.492300000000\n",
      "0.074000000000,0.002542580955,2.496940000000\n",
      "0.075000000000,0.002614521495,2.502240000000\n",
      "0.076000000000,0.002687754870,2.507950000000\n",
      "0.077000000000,0.002759106270,2.513950000000\n",
      "0.078000000000,0.002828657520,2.518480000000\n",
      "0.079000000000,0.002897079585,2.523460000000\n",
      "0.080000000000,0.002963014170,2.528760000000\n",
      "0.081000000000,0.003026297625,2.534110000000\n",
      "0.082000000000,0.003092657700,2.539090000000\n",
      "0.083000000000,0.003159263250,2.543580000000\n",
      "0.084000000000,0.003227178000,2.548240000000\n",
      "0.085000000000,0.003292932570,2.552070000000\n",
      "0.086000000000,0.003356886990,2.557090000000\n",
      "0.087000000000,0.003424605360,2.562510000000\n",
      "0.088000000000,0.003494582100,2.566360000000\n",
      "0.089000000000,0.003564411555,2.571590000000\n",
      "0.090000000000,0.003636646665,2.576760000000\n",
      "0.091000000000,0.003705543315,2.582430000000\n",
      "0.092000000000,0.003776567415,2.586260000000\n",
      "0.093000000000,0.003853826580,2.589760000000\n",
      "0.094000000000,0.003931085745,2.593810000000\n",
      "0.095000000000,0.004009375905,2.597580000000\n",
      "0.096000000000,0.004086864180,2.604410000000\n",
      "0.097000000000,0.004162486845,2.608330000000\n",
      "0.098000000000,0.004234476480,2.614000000000\n",
      "0.099000000000,0.004309722750,2.618250000000\n",
      "0.100000000000,0.004385738175,2.621150000000\n",
      "0.101000000000,0.004458513330,2.619610000000\n",
      "0.102000000000,0.004525413450,2.625410000000\n",
      "0.103000000000,0.004592411760,2.632280000000\n",
      "0.104000000000,0.004663337670,2.637210000000\n",
      "0.105000000000,0.004733952645,2.640180000000\n",
      "0.106000000000,0.004802538360,2.644720000000\n",
      "0.107000000000,0.004870829505,2.648750000000\n",
      "0.108000000000,0.004940102550,2.653770000000\n",
      "0.109000000000,0.005005267980,2.659380000000\n",
      "0.110000000000,0.005068535070,2.664820000000\n",
      "0.111000000000,0.005131131195,2.669400000000\n",
      "0.112000000000,0.005194054620,2.675250000000\n",
      "0.113000000000,0.005255767035,2.678620000000\n",
      "0.114000000000,0.005319443250,2.683310000000\n",
      "0.115000000000,0.005387423460,2.689920000000\n",
      "0.116000000000,0.005449872300,2.686820000000\n",
      "0.117000000000,0.005498067225,2.687800000000\n",
      "0.118000000000,0.005544200160,2.692240000000\n",
      "0.119000000000,0.005598253755,2.696960000000\n",
      "0.120000000000,0.005655318510,2.701000000000\n",
      "0.121000000000,0.005707686510,2.702650000000\n",
      "0.122000000000,0.005748893580,2.706490000000\n",
      "0.123000000000,0.005787351330,2.709810000000\n",
      "0.124000000000,0.005832780570,2.713500000000\n",
      "0.125000000000,0.005875525950,2.714020000000\n",
      "0.126000000000,0.005911954440,2.716880000000\n",
      "0.127000000000,0.005941640550,2.717340000000\n",
      "0.128000000000,0.005968102755,2.718920000000\n",
      "0.129000000000,0.006023400090,2.720120000000\n",
      "0.130000000000,0.006093949605,2.720410000000\n",
      "0.131000000000,0.006170554170,2.716840000000\n",
      "0.132000000000,0.006252542820,2.722020000000\n",
      "0.133000000000,0.006336888030,2.727360000000\n",
      "0.134000000000,0.006420660465,2.732190000000\n",
      "0.135000000000,0.006505905750,2.737010000000\n",
      "0.136000000000,0.006587894400,2.739980000000\n",
      "0.137000000000,0.006673286970,2.738390000000\n",
      "0.138000000000,0.006761772525,2.740120000000\n",
      "0.139000000000,0.006853121955,2.739010000000\n",
      "0.140000000000,0.006946435185,2.739880000000\n",
      "0.141000000000,0.007036115385,2.739800000000\n",
      "0.142000000000,0.007127481180,2.740530000000\n",
      "0.143000000000,0.007220581665,2.745350000000\n",
      "0.144000000000,0.007312634790,2.751610000000\n",
      "0.145000000000,0.007402576830,2.755280000000\n",
      "0.146000000000,0.007494335385,2.758660000000\n",
      "0.147000000000,0.007587026745,2.761330000000\n",
      "0.148000000000,0.007671633795,2.764640000000\n",
      "0.149000000000,0.007762672290,2.767410000000\n",
      "0.150000000000,0.007852957995,2.773220000000\n",
      "0.151000000000,0.007934504790,2.774750000000\n",
      "0.152000000000,0.008012205810,2.778460000000\n",
      "0.153000000000,0.008081544315,2.778900000000\n",
      "0.154000000000,0.008148886290,2.781410000000\n",
      "0.155000000000,0.008217897495,2.782730000000\n",
      "0.156000000000,0.008290607190,2.782560000000\n",
      "0.157000000000,0.008361222165,2.785150000000\n",
      "0.158000000000,0.008425929375,2.784330000000\n",
      "0.159000000000,0.008479115625,2.773280000000\n",
      "0.160000000000,0.008524937625,2.754010000000\n",
      "0.161000000000,0.008568435795,2.767550000000\n",
      "0.162000000000,0.008600723940,2.776650000000\n",
      "0.163000000000,0.008647495110,2.790930000000\n",
      "0.164000000000,0.008699535810,2.799830000000\n",
      "0.165000000000,0.008758335255,2.798890000000\n",
      "0.166000000000,0.008821487790,2.805440000000\n",
      "0.167000000000,0.008892904650,2.810820000000\n",
      "0.168000000000,0.008962063140,2.813480000000\n",
      "0.169000000000,0.009028586865,2.810700000000\n",
      "0.170000000000,0.009089775600,2.812370000000\n",
      "0.171000000000,0.009154319160,2.816300000000\n",
      "0.172000000000,0.009219059100,2.818870000000\n",
      "0.173000000000,0.009282800775,2.822230000000\n",
      "0.174000000000,0.009350306400,2.823260000000\n",
      "0.175000000000,0.009423212475,2.824570000000\n",
      "0.176000000000,0.009499555200,2.825830000000\n",
      "0.177000000000,0.009578221755,2.828110000000\n",
      "0.178000000000,0.009657428355,2.831670000000\n",
      "0.179000000000,0.009729074325,2.834270000000\n",
      "0.180000000000,0.009792766905,2.839000000000\n",
      "0.181000000000,0.009845625855,2.843580000000\n",
      "0.182000000000,0.009897961125,2.845440000000\n",
      "0.183000000000,0.009956040510,2.847910000000\n",
      "0.184000000000,0.010013088900,2.851440000000\n",
      "0.185000000000,0.010059238200,2.852350000000\n",
      "0.186000000000,0.010109675130,2.855770000000\n",
      "0.187000000000,0.010167116280,2.858260000000\n",
      "0.188000000000,0.010227339480,2.858980000000\n",
      "0.189000000000,0.010280460270,2.864500000000\n",
      "0.190000000000,0.010324334835,2.869910000000\n",
      "0.191000000000,0.010367423880,2.876850000000\n",
      "0.192000000000,0.010404932460,2.879900000000\n",
      "0.193000000000,0.010446957780,2.883110000000\n",
      "0.194000000000,0.010493728950,2.882310000000\n",
      "0.195000000000,0.010544034960,2.885810000000\n",
      "0.196000000000,0.010601312460,2.887250000000\n",
      "0.197000000000,0.010669390860,2.888210000000\n",
      "0.198000000000,0.010737780195,2.888020000000\n",
      "0.199000000000,0.010786826100,2.889770000000\n",
      "0.200000000000,0.010830553380,2.889410000000\n",
      "\n"
     ]
    }
   ],
   "source": [
    "f = open(\"Data/demofile3.dat\", \"r\")\n",
    "print(f.read())"
   ]
  },
  {
   "cell_type": "code",
   "execution_count": 33,
   "metadata": {
    "scrolled": true
   },
   "outputs": [
    {
     "name": "stdout",
     "output_type": "stream",
     "text": [
      "0    0.001\n",
      "1    0.002\n",
      "2    0.003\n",
      "3    0.004\n",
      "4    0.005\n",
      "5    0.006\n",
      "6    0.007\n",
      "7    0.008\n",
      "8    0.009\n",
      "9    0.010\n",
      "Name: x, dtype: float64 0   -8.539700e-08\n",
      "1    6.566800e-08\n",
      "2    1.531397e-06\n",
      "3    1.922020e-06\n",
      "4    2.379847e-06\n",
      "5    2.913821e-06\n",
      "6    3.506594e-06\n",
      "7    4.076800e-06\n",
      "8    4.633406e-06\n",
      "9    5.159574e-06\n",
      "Name: y, dtype: float64\n"
     ]
    }
   ],
   "source": [
    "filename = \"Data/demofile3.dat\"\n",
    "df = pd.read_table(filename, sep=\",\")\n",
    "df.columns = ['x', 'y', 'z']\n",
    "\n",
    "x = df['x']\n",
    "y = df['y']\n",
    "print(x[:10],y[:10])"
   ]
  },
  {
   "cell_type": "markdown",
   "metadata": {},
   "source": [
    "## Plot in python"
   ]
  },
  {
   "cell_type": "code",
   "execution_count": 35,
   "metadata": {},
   "outputs": [
    {
     "data": {
      "image/png": "[encoded data removed]",
      "text/plain": [
       "<Figure size 432x288 with 1 Axes>"
      ]
     },
     "metadata": {
      "needs_background": "light"
     },
     "output_type": "display_data"
    }
   ],
   "source": [
    "import matplotlib.pyplot as plt\n",
    "\n",
    "current = []\n",
    "voltage = []\n",
    "power = []\n",
    "\n",
    "# reading from the file\n",
    "file = open(\"Data/demofile3.dat\", \"r\")\n",
    "for line in file:\n",
    "    item = line.rstrip() # strip off newline and any other trailing whitespace\n",
    "    x, y, z = item.split(\",\")\n",
    "    x, y, z = float(x), float(y), float(z) # type casting, string to float\n",
    "    current.append(x*1000) # mA\n",
    "    voltage.append(z)\n",
    "    power.append(y*1000) # mW\n",
    "#print(power)\n",
    "\n",
    "#file.read()\n",
    "file.close()\n",
    "\n",
    "plt.plot(current, power)\n",
    "plt.title('Output power vs drive current')\n",
    "#plt.text(40, 8, 'some text test 22')\n",
    "plt.ylabel('Output Power (mW)')\n",
    "plt.xlabel('Current (mA)')\n",
    "plt.grid(True)\n",
    "plt.show()"
   ]
  },
  {
   "cell_type": "code",
   "execution_count": 36,
   "metadata": {},
   "outputs": [
    {
     "data": {
      "image/png": "[encoded data removed]",
      "text/plain": [
       "<Figure size 432x288 with 1 Axes>"
      ]
     },
     "metadata": {
      "needs_background": "light"
     },
     "output_type": "display_data"
    }
   ],
   "source": [
    "filename = \"Data/demofile3.dat\"\n",
    "df = pd.read_table(filename, sep=\",\")\n",
    "df.columns = ['x', 'y', 'z']\n",
    "\n",
    "x = df['x']*1000\n",
    "y = df['y']\n",
    "z = df['z']*1000\n",
    "\n",
    "plt.plot(x, y)\n",
    "plt.title('Output power vs drive current')\n",
    "#plt.text(40, 8, 'some text test 22')\n",
    "plt.ylabel('Output Power (mW)')\n",
    "plt.xlabel('Current (mA)')\n",
    "plt.grid(True)\n",
    "plt.show()"
   ]
  },
  {
   "cell_type": "markdown",
   "metadata": {},
   "source": [
    "## Read data from excel file"
   ]
  },
  {
   "cell_type": "markdown",
   "metadata": {},
   "source": [
    "## Using panda module"
   ]
  },
  {
   "cell_type": "code",
   "execution_count": 35,
   "metadata": {},
   "outputs": [
    {
     "data": {
      "text/plain": [
       "[<matplotlib.lines.Line2D at 0x7fbada180fd0>]"
      ]
     },
     "execution_count": 35,
     "metadata": {},
     "output_type": "execute_result"
    },
    {
     "data": {
      "image/png": "[encoded data removed]",
      "text/plain": [
       "<Figure size 432x288 with 1 Axes>"
      ]
     },
     "metadata": {
      "needs_background": "light"
     },
     "output_type": "display_data"
    }
   ],
   "source": [
    "import pandas as pd\n",
    "import matplotlib.pyplot as plt\n",
    "\n",
    "#file_location = filedialog.askopenfilename()\n",
    "file_location = \"Data/demofile4.xlsx\"\n",
    "df = pd.read_excel (file_location)\n",
    "x = df['x']\n",
    "y = df['y']\n",
    "\n",
    "#plt.text(0, 8, 'some text')\n",
    "plt.ylabel('Coupling Efficiency')\n",
    "plt.xlabel('Displacement (um)')\n",
    "plt.grid(True)\n",
    "plt.plot(x,y)"
   ]
  },
  {
   "cell_type": "markdown",
   "metadata": {},
   "source": [
    "## Matplotlib\n",
    "\n",
    "https://matplotlib.org/stable/gallery/index.html"
   ]
  },
  {
   "cell_type": "code",
   "execution_count": 39,
   "metadata": {},
   "outputs": [
    {
     "data": {
      "image/png": "[encoded data removed]",
      "text/plain": [
       "<Figure size 432x288 with 2 Axes>"
      ]
     },
     "metadata": {
      "needs_background": "light"
     },
     "output_type": "display_data"
    }
   ],
   "source": [
    "import matplotlib.pyplot as plt\n",
    "\n",
    "filename = \"Data/demofile3.dat\"\n",
    "df = pd.read_table(filename, sep=\",\")\n",
    "df.columns = ['x', 'y', 'z']\n",
    "\n",
    "x = df['x']*1000\n",
    "y = df['y']*1000\n",
    "z = df['z']\n",
    "\n",
    "x_label = \"x\"\n",
    "y_label1 = \"Y1\"\n",
    "y_label2 = \"Y2\"\n",
    "\n",
    "fig,ax = plt.subplots()\n",
    "plt.grid(True)\n",
    "# make a plot\n",
    "ax.plot(x, y, color=\"red\")\n",
    "# set x-axis label\n",
    "ax.set_xlabel(x_label, fontsize=14)\n",
    "# set y-axis label\n",
    "ax.set_ylabel(y_label1, color=\"red\", fontsize=14)\n",
    "\n",
    "# twin object for two different y-axis on the sample plot\n",
    "ax2=ax.twinx()\n",
    "# make a plot with different y-axis using second axis object\n",
    "ax2.plot(x, z, color=\"blue\")\n",
    "ax2.set_ylabel(y_label2, color=\"blue\", fontsize=14)\n",
    "plt.show()"
   ]
  },
  {
   "cell_type": "code",
   "execution_count": null,
   "metadata": {},
   "outputs": [],
   "source": []
  }
 ],
 "metadata": {
  "kernelspec": {
   "display_name": "Python 3 (ipykernel)",
   "language": "python",
   "name": "python3"
  },
  "language_info": {
   "codemirror_mode": {
    "name": "ipython",
    "version": 3
   },
   "file_extension": ".py",
   "mimetype": "text/x-python",
   "name": "python",
   "nbconvert_exporter": "python",
   "pygments_lexer": "ipython3",
   "version": "3.9.7"
  }
 },
 "nbformat": 4,
 "nbformat_minor": 4
}
